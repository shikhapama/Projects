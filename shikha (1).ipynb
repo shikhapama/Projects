{
 "cells": [
  {
   "cell_type": "code",
   "execution_count": 43,
   "id": "c0b23f73-6632-4343-9b30-2ef79477ac73",
   "metadata": {},
   "outputs": [
    {
     "name": "stdout",
     "output_type": "stream",
     "text": [
      "Linear Regression - R²: 0.9318, RMSE: 43.21\n",
      "Decision Tree - R²: 0.9410, RMSE: 40.19\n",
      "Random Forest - R²: 0.9721, RMSE: 27.62\n"
     ]
    }
   ],
   "source": [
    "import pandas as pd\n",
    "import numpy as np\n",
    "from sklearn.model_selection import train_test_split\n",
    "from sklearn.preprocessing import StandardScaler, LabelEncoder\n",
    "from sklearn.linear_model import LinearRegression\n",
    "from sklearn.tree import DecisionTreeRegressor\n",
    "from sklearn.ensemble import RandomForestRegressor\n",
    "from sklearn.metrics import r2_score, mean_squared_error\n",
    "import joblib\n",
    "\n",
    "# Load data\n",
    "df = pd.read_csv(\"machine leaning 2.csv\")\n",
    "\n",
    "# Encode categorical variables\n",
    "categorical_columns = ['City', 'Month', 'Product_Type', 'Marketing_Channel', 'Customer_Income_Level']\n",
    "label_encoders = {}\n",
    "\n",
    "for column in categorical_columns:\n",
    "    le = LabelEncoder()\n",
    "    df[column] = le.fit_transform(df[column])\n",
    "    label_encoders[column] = le\n",
    "\n",
    "# Define X and y\n",
    "X = df.drop(columns=['ROI'])\n",
    "y = df['ROI']\n",
    "\n",
    "# Scale features\n",
    "scaler = StandardScaler()\n",
    "X_scaled = scaler.fit_transform(X)\n",
    "\n",
    "# Split data\n",
    "X_train, X_test, y_train, y_test = train_test_split(X_scaled, y, test_size=0.2, random_state=42)\n",
    "\n",
    "# Train models\n",
    "models = {\n",
    "    'Linear Regression': LinearRegression(),\n",
    "    'Decision Tree': DecisionTreeRegressor(max_depth=5, random_state=42),\n",
    "    'Random Forest': RandomForestRegressor(n_estimators=100, max_depth=5, random_state=42)\n",
    "}\n",
    "\n",
    "for name, model in models.items():\n",
    "    model.fit(X_train, y_train)\n",
    "    y_pred = model.predict(X_test)\n",
    "    r2 = r2_score(y_test, y_pred)\n",
    "    rmse = np.sqrt(mean_squared_error(y_test, y_pred))\n",
    "    print(f\"{name} - R²: {r2:.4f}, RMSE: {rmse:.2f}\")\n",
    "\n",
    "\n"
   ]
  },
  {
   "cell_type": "code",
   "execution_count": 45,
   "id": "3bd1cc41-45e6-44d3-a914-ebd67885829c",
   "metadata": {},
   "outputs": [
    {
     "data": {
      "text/plain": [
       "['label_encoders.pkl']"
      ]
     },
     "execution_count": 45,
     "metadata": {},
     "output_type": "execute_result"
    }
   ],
   "source": [
    "joblib.dump(linear_model, 'linear_regression_model.pkl')\n",
    "joblib.dump(tree_model, 'decision_tree_model.pkl')\n",
    "joblib.dump(forest_model, 'random_forest_model.pkl')\n",
    "joblib.dump(scaler, 'scaler.pkl')\n",
    "joblib.dump(label_encoders, 'label_encoders.pkl')\n"
   ]
  },
  {
   "cell_type": "code",
   "execution_count": 47,
   "id": "98796eda-a0cd-4f14-b14e-c5e2aecec59b",
   "metadata": {},
   "outputs": [
    {
     "name": "stdout",
     "output_type": "stream",
     "text": [
      "* Running on local URL:  http://127.0.0.1:7865\n",
      "* To create a public link, set `share=True` in `launch()`.\n"
     ]
    },
    {
     "data": {
      "text/html": [
       "<div><iframe src=\"http://127.0.0.1:7865/\" width=\"100%\" height=\"500\" allow=\"autoplay; camera; microphone; clipboard-read; clipboard-write;\" frameborder=\"0\" allowfullscreen></iframe></div>"
      ],
      "text/plain": [
       "<IPython.core.display.HTML object>"
      ]
     },
     "metadata": {},
     "output_type": "display_data"
    },
    {
     "data": {
      "text/plain": []
     },
     "execution_count": 47,
     "metadata": {},
     "output_type": "execute_result"
    }
   ],
   "source": [
    "import gradio as gr\n",
    "import matplotlib.pyplot as plt\n",
    "\n",
    "# Define your ROI prediction function\n",
    "def predict_roi(city, month, product_type, marketing_channel, income_level, budget, past_sales, model_choice):\n",
    "    # Dummy logic for ROI prediction\n",
    "    predicted_roi = (float(past_sales) + float(budget) * 0.1) / float(budget) * 100\n",
    "\n",
    "    # Generate a simple bar chart\n",
    "    fig, ax = plt.subplots()\n",
    "    ax.bar([\"Predicted ROI\"], [predicted_roi])\n",
    "    ax.set_ylabel(\"ROI (%)\")\n",
    "    ax.set_ylim(0, 200)\n",
    "    ax.set_title(f\"ROI Prediction using {model_choice}\")\n",
    "\n",
    "    return f\"{predicted_roi:.2f}%\", fig\n",
    "\n",
    "# Define Gradio interface\n",
    "interface = gr.Interface(\n",
    "    fn=predict_roi,\n",
    "    inputs=[\n",
    "        gr.Textbox(label=\"City\"),\n",
    "        gr.Textbox(label=\"Month\"),\n",
    "        gr.Dropdown([\"Electronics\", \"Clothing\", \"Home\", \"Food\"], label=\"Product Type\"),\n",
    "        gr.Dropdown([\"Social Media\", \"Email\", \"TV\", \"Radio\"], label=\"Marketing Channel\"),\n",
    "        gr.Dropdown([\"Low\", \"Medium\", \"High\"], label=\"Income Level\"),\n",
    "        gr.Number(label=\"Marketing Budget\"),\n",
    "        gr.Number(label=\"Past Sales\"),\n",
    "        gr.Radio([\"Linear Regression\", \"Random Forest\", \"XGBoost\"], label=\"Model Choice\")\n",
    "    ],\n",
    "    outputs=[\n",
    "        gr.Textbox(label=\"Predicted ROI\"),\n",
    "        gr.Plot(label=\"ROI Visualization\")\n",
    "    ],\n",
    "    title=\"Marketing ROI Predictor\",\n",
    "    description=\"Enter marketing parameters to predict ROI and visualize results.\"\n",
    ")\n",
    "\n",
    "# Launch the app\n",
    "interface.launch()\n"
   ]
  }
 ],
 "metadata": {
  "kernelspec": {
   "display_name": "Python 3 (ipykernel)",
   "language": "python",
   "name": "python3"
  },
  "language_info": {
   "codemirror_mode": {
    "name": "ipython",
    "version": 3
   },
   "file_extension": ".py",
   "mimetype": "text/x-python",
   "name": "python",
   "nbconvert_exporter": "python",
   "pygments_lexer": "ipython3",
   "version": "3.11.7"
  }
 },
 "nbformat": 4,
 "nbformat_minor": 5
}
