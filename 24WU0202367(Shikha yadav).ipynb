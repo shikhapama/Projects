{
 "cells": [
  {
   "cell_type": "code",
   "execution_count": 38,
   "id": "966077ae-5774-463b-b971-9b01301a0203",
   "metadata": {},
   "outputs": [
    {
     "name": "stdout",
     "output_type": "stream",
     "text": [
      "Requirement already satisfied: xgboost in c:\\programdata\\anaconda3\\lib\\site-packages (3.0.0)\n",
      "Requirement already satisfied: numpy in c:\\programdata\\anaconda3\\lib\\site-packages (from xgboost) (1.26.4)\n",
      "Requirement already satisfied: scipy in c:\\programdata\\anaconda3\\lib\\site-packages (from xgboost) (1.13.1)\n"
     ]
    }
   ],
   "source": [
    "!pip install xgboost"
   ]
  },
  {
   "cell_type": "code",
   "execution_count": 39,
   "id": "7de44a85-3ea8-4674-9dfa-8082cbf4f27d",
   "metadata": {},
   "outputs": [],
   "source": [
    "import pandas as pd\n",
    "import matplotlib.pyplot as plt\n",
    "from sklearn.model_selection import train_test_split\n",
    "from sklearn.preprocessing import LabelEncoder, StandardScaler, OneHotEncoder\n",
    "from sklearn.compose import ColumnTransformer\n",
    "from sklearn.ensemble import RandomForestClassifier\n",
    "from sklearn.tree import DecisionTreeClassifier\n",
    "from sklearn.linear_model import LogisticRegression\n",
    "from xgboost import XGBClassifier\n",
    "from sklearn.pipeline import Pipeline\n",
    "from sklearn.impute import SimpleImputer\n",
    "from sklearn.metrics import accuracy_score\n",
    "from imblearn.over_sampling import SMOTE\n",
    "from sklearn.feature_selection import SelectFromModel\n",
    "from sklearn.model_selection import GridSearchCV"
   ]
  },
  {
   "cell_type": "code",
   "execution_count": 40,
   "id": "614a4c68-e1a1-49eb-b484-c77a881aad11",
   "metadata": {},
   "outputs": [
    {
     "data": {
      "text/html": [
       "<div>\n",
       "<style scoped>\n",
       "    .dataframe tbody tr th:only-of-type {\n",
       "        vertical-align: middle;\n",
       "    }\n",
       "\n",
       "    .dataframe tbody tr th {\n",
       "        vertical-align: top;\n",
       "    }\n",
       "\n",
       "    .dataframe thead th {\n",
       "        text-align: right;\n",
       "    }\n",
       "</style>\n",
       "<table border=\"1\" class=\"dataframe\">\n",
       "  <thead>\n",
       "    <tr style=\"text-align: right;\">\n",
       "      <th></th>\n",
       "      <th>Shipment ID</th>\n",
       "      <th>Origin Airport</th>\n",
       "      <th>Destination Airport</th>\n",
       "      <th>Shipment Weight (kg)</th>\n",
       "      <th>Shipment Volume (m³)</th>\n",
       "      <th>Freight Cost (USD)</th>\n",
       "      <th>Mode of Transport</th>\n",
       "      <th>Carrier Name</th>\n",
       "      <th>Transit Time (hours)</th>\n",
       "      <th>Temperature-Sensitive</th>\n",
       "      <th>Perishable Goods</th>\n",
       "      <th>Customs Clearance Time (hours)</th>\n",
       "      <th>Weather Conditions</th>\n",
       "      <th>Day of Week</th>\n",
       "      <th>Delay Status</th>\n",
       "    </tr>\n",
       "  </thead>\n",
       "  <tbody>\n",
       "    <tr>\n",
       "      <th>0</th>\n",
       "      <td>SHIP000001</td>\n",
       "      <td>SFO</td>\n",
       "      <td>LHR</td>\n",
       "      <td>655.03</td>\n",
       "      <td>7.80</td>\n",
       "      <td>1238.23</td>\n",
       "      <td>Air</td>\n",
       "      <td>UPS</td>\n",
       "      <td>16</td>\n",
       "      <td>No</td>\n",
       "      <td>Yes</td>\n",
       "      <td>7</td>\n",
       "      <td>Clear</td>\n",
       "      <td>Thursday</td>\n",
       "      <td>Delayed</td>\n",
       "    </tr>\n",
       "    <tr>\n",
       "      <th>1</th>\n",
       "      <td>SHIP000002</td>\n",
       "      <td>ATL</td>\n",
       "      <td>SIN</td>\n",
       "      <td>988.60</td>\n",
       "      <td>37.41</td>\n",
       "      <td>1868.80</td>\n",
       "      <td>Air</td>\n",
       "      <td>Lufthansa Cargo</td>\n",
       "      <td>21</td>\n",
       "      <td>No</td>\n",
       "      <td>No</td>\n",
       "      <td>5</td>\n",
       "      <td>Clear</td>\n",
       "      <td>Thursday</td>\n",
       "      <td>On-Time</td>\n",
       "    </tr>\n",
       "    <tr>\n",
       "      <th>2</th>\n",
       "      <td>SHIP000003</td>\n",
       "      <td>DFW</td>\n",
       "      <td>HKG</td>\n",
       "      <td>637.71</td>\n",
       "      <td>10.53</td>\n",
       "      <td>1205.49</td>\n",
       "      <td>Air</td>\n",
       "      <td>FedEx</td>\n",
       "      <td>6</td>\n",
       "      <td>No</td>\n",
       "      <td>No</td>\n",
       "      <td>36</td>\n",
       "      <td>Clear</td>\n",
       "      <td>Wednesday</td>\n",
       "      <td>On-Time</td>\n",
       "    </tr>\n",
       "    <tr>\n",
       "      <th>3</th>\n",
       "      <td>SHIP000004</td>\n",
       "      <td>SFO</td>\n",
       "      <td>DXB</td>\n",
       "      <td>367.47</td>\n",
       "      <td>7.70</td>\n",
       "      <td>694.65</td>\n",
       "      <td>Rail</td>\n",
       "      <td>DHL</td>\n",
       "      <td>17</td>\n",
       "      <td>Yes</td>\n",
       "      <td>No</td>\n",
       "      <td>16</td>\n",
       "      <td>Rainy</td>\n",
       "      <td>Sunday</td>\n",
       "      <td>On-Time</td>\n",
       "    </tr>\n",
       "    <tr>\n",
       "      <th>4</th>\n",
       "      <td>SHIP000005</td>\n",
       "      <td>ORD</td>\n",
       "      <td>HKG</td>\n",
       "      <td>671.23</td>\n",
       "      <td>3.59</td>\n",
       "      <td>1268.86</td>\n",
       "      <td>Air</td>\n",
       "      <td>DHL</td>\n",
       "      <td>36</td>\n",
       "      <td>No</td>\n",
       "      <td>No</td>\n",
       "      <td>3</td>\n",
       "      <td>Rainy</td>\n",
       "      <td>Friday</td>\n",
       "      <td>Delayed</td>\n",
       "    </tr>\n",
       "  </tbody>\n",
       "</table>\n",
       "</div>"
      ],
      "text/plain": [
       "  Shipment ID Origin Airport Destination Airport  Shipment Weight (kg)  \\\n",
       "0  SHIP000001            SFO                 LHR                655.03   \n",
       "1  SHIP000002            ATL                 SIN                988.60   \n",
       "2  SHIP000003            DFW                 HKG                637.71   \n",
       "3  SHIP000004            SFO                 DXB                367.47   \n",
       "4  SHIP000005            ORD                 HKG                671.23   \n",
       "\n",
       "   Shipment Volume (m³)  Freight Cost (USD) Mode of Transport  \\\n",
       "0                  7.80             1238.23               Air   \n",
       "1                 37.41             1868.80               Air   \n",
       "2                 10.53             1205.49               Air   \n",
       "3                  7.70              694.65              Rail   \n",
       "4                  3.59             1268.86               Air   \n",
       "\n",
       "      Carrier Name  Transit Time (hours) Temperature-Sensitive  \\\n",
       "0              UPS                    16                    No   \n",
       "1  Lufthansa Cargo                    21                    No   \n",
       "2            FedEx                     6                    No   \n",
       "3              DHL                    17                   Yes   \n",
       "4              DHL                    36                    No   \n",
       "\n",
       "  Perishable Goods  Customs Clearance Time (hours) Weather Conditions  \\\n",
       "0              Yes                               7              Clear   \n",
       "1               No                               5              Clear   \n",
       "2               No                              36              Clear   \n",
       "3               No                              16              Rainy   \n",
       "4               No                               3              Rainy   \n",
       "\n",
       "  Day of Week Delay Status  \n",
       "0    Thursday      Delayed  \n",
       "1    Thursday      On-Time  \n",
       "2   Wednesday      On-Time  \n",
       "3      Sunday      On-Time  \n",
       "4      Friday      Delayed  "
      ]
     },
     "execution_count": 40,
     "metadata": {},
     "output_type": "execute_result"
    }
   ],
   "source": [
    "df=pd.read_excel(r\"C:\\Users\\admin\\Downloads\\air cargo supplychain.xlsx\")\n",
    "df.head()"
   ]
  },
  {
   "cell_type": "code",
   "execution_count": 41,
   "id": "0641f368-8343-4b30-8f81-1f5401488338",
   "metadata": {},
   "outputs": [],
   "source": [
    "# Drop non-informative column\n",
    "df.drop(columns=[\"Shipment ID\"], inplace=True)"
   ]
  },
  {
   "cell_type": "code",
   "execution_count": 42,
   "id": "08dc1521-6c1a-43d8-b5e9-c6f0d5594766",
   "metadata": {},
   "outputs": [
    {
     "name": "stdout",
     "output_type": "stream",
     "text": [
      "Missing values in dataset:\n",
      " Origin Airport                    0\n",
      "Destination Airport               0\n",
      "Shipment Weight (kg)              0\n",
      "Shipment Volume (m³)              0\n",
      "Freight Cost (USD)                0\n",
      "Mode of Transport                 0\n",
      "Carrier Name                      0\n",
      "Transit Time (hours)              0\n",
      "Temperature-Sensitive             0\n",
      "Perishable Goods                  0\n",
      "Customs Clearance Time (hours)    0\n",
      "Weather Conditions                0\n",
      "Day of Week                       0\n",
      "Delay Status                      0\n",
      "dtype: int64\n"
     ]
    }
   ],
   "source": [
    "# Check for missing values\n",
    "missing_values = df.isna().sum()\n",
    "print(\"Missing values in dataset:\\n\", missing_values)"
   ]
  },
  {
   "cell_type": "code",
   "execution_count": 43,
   "id": "eea4b9ec-1d17-4d32-ab30-a94c0df6caa3",
   "metadata": {},
   "outputs": [],
   "source": [
    "# Define target variable\n",
    "y = df[\"Delay Status\"]\n",
    "X = df.drop(columns=[\"Delay Status\"])"
   ]
  },
  {
   "cell_type": "code",
   "execution_count": 44,
   "id": "241a47dd-73ba-440e-b7f5-bbb02c90ad28",
   "metadata": {},
   "outputs": [
    {
     "data": {
      "text/plain": [
       "Origin Airport                    0\n",
       "Destination Airport               0\n",
       "Shipment Weight (kg)              0\n",
       "Shipment Volume (m³)              0\n",
       "Freight Cost (USD)                0\n",
       "Mode of Transport                 0\n",
       "Carrier Name                      0\n",
       "Transit Time (hours)              0\n",
       "Temperature-Sensitive             0\n",
       "Perishable Goods                  0\n",
       "Customs Clearance Time (hours)    0\n",
       "Weather Conditions                0\n",
       "Day of Week                       0\n",
       "Delay Status                      0\n",
       "dtype: int64"
      ]
     },
     "execution_count": 44,
     "metadata": {},
     "output_type": "execute_result"
    }
   ],
   "source": [
    "df.isna().sum()"
   ]
  },
  {
   "cell_type": "code",
   "execution_count": 45,
   "id": "1ea234f7-19f3-4a35-9437-1ec6bcec842c",
   "metadata": {},
   "outputs": [],
   "source": [
    "# Encode target (Delay Status) and categorical features  \n",
    "le = LabelEncoder()  \n",
    "df['Delay Status'] = le.fit_transform(df['Delay Status'])  \n",
    "df['Mode of Transport'] = le.fit_transform(df['Mode of Transport'])  \n",
    "df['Carrier Name'] = le.fit_transform(df['Carrier Name']) "
   ]
  },
  {
   "cell_type": "code",
   "execution_count": 46,
   "id": "eabcd0a3-ae4f-423d-b955-23f117b01b19",
   "metadata": {},
   "outputs": [],
   "source": [
    "# Choose a subset of features\n",
    "features = ['Shipment Weight (kg)', 'Transit Time (hours)', 'Customs Clearance Time (hours)', 'Mode of Transport']\n",
    "target = 'Delay Status'"
   ]
  },
  {
   "cell_type": "code",
   "execution_count": 47,
   "id": "9bbb1134-1846-4960-9a67-960777bb345a",
   "metadata": {},
   "outputs": [],
   "source": [
    "X = df[features]\n",
    "y = df[target]"
   ]
  },
  {
   "cell_type": "code",
   "execution_count": 48,
   "id": "72253cae-639e-4c93-b72b-65f1a2869528",
   "metadata": {},
   "outputs": [],
   "source": [
    "# Split into train-test\n",
    "X_train, X_test, y_train, y_test = train_test_split(X, y, test_size= 0.03, random_state=42)"
   ]
  },
  {
   "cell_type": "code",
   "execution_count": 49,
   "id": "804a2fff-a610-4199-8dcf-008fcd389784",
   "metadata": {},
   "outputs": [],
   "source": [
    "# Initialize models\n",
    "models = {\n",
    "    'Logistic Regression': LogisticRegression(max_iter=1000),\n",
    "    'Decision Tree': DecisionTreeClassifier(),\n",
    "    'Random Forest': RandomForestClassifier(n_estimators=100),\n",
    "    'XGBoost': XGBClassifier(n_estimators=100, max_depth=10, learning_rate=0.1, random_state=42)\n",
    "}"
   ]
  },
  {
   "cell_type": "code",
   "execution_count": 33,
   "id": "ac41a561-c059-4982-9e56-6ef9b2802649",
   "metadata": {},
   "outputs": [
    {
     "name": "stdout",
     "output_type": "stream",
     "text": [
      "Logistic Regression accuracy: 0.445\n",
      "Decision Tree accuracy: 0.5317\n",
      "Random Forest accuracy: 0.4767\n"
     ]
    }
   ],
   "source": [
    "# Train models and collect accuracies\n",
    "accuracies = {}\n",
    "\n",
    "for name, model in models.items():\n",
    "    model.fit(X_train, y_train)\n",
    "    y_pred = model.predict(X_test)\n",
    "    acc = accuracy_score(y_test, y_pred)\n",
    "    accuracies[name] = acc\n",
    "    print(name + ' accuracy:', round(acc, 4))"
   ]
  },
  {
   "cell_type": "code",
   "execution_count": 34,
   "id": "5e105ef0-9385-4760-aa48-ca1996beb88b",
   "metadata": {},
   "outputs": [
    {
     "data": {
      "image/png": "[encoded data removed]",
      "text/plain": [
       "<Figure size 900x600 with 1 Axes>"
      ]
     },
     "metadata": {},
     "output_type": "display_data"
    },
    {
     "name": "stdout",
     "output_type": "stream",
     "text": [
      "Accuracy of all models\n"
     ]
    }
   ],
   "source": [
    "# Plot the model accuracies\n",
    "plt.figure(figsize=(9,6))\n",
    "plt.bar(accuracies.keys(), accuracies.values(), color=['Blue','Red','Yellow'])\n",
    "plt.title('Model Accuracy Comparison', fontsize=20, pad=15, color='BLack')\n",
    "plt.xlabel('Model', fontsize=16, labelpad=10, color='Black')\n",
    "plt.ylabel('Accuracy', fontsize=16, labelpad=10, color='Black')\n",
    "plt.ylim(0, 1)\n",
    "for model, acc in accuracies.items():\n",
    "    plt.text(model, acc + 0.02, str(round(acc, 4)), ha='center', fontsize=12, color='Green')\n",
    "plt.tight_layout()\n",
    "plt.show()\n",
    "\n",
    "print('Accuracy of all models')"
   ]
  },
  {
   "cell_type": "code",
   "execution_count": null,
   "id": "12a3a25f-f512-482e-a821-38caf9280219",
   "metadata": {},
   "outputs": [],
   "source": []
  }
 ],
 "metadata": {
  "kernelspec": {
   "display_name": "Python 3 (ipykernel)",
   "language": "python",
   "name": "python3"
  },
  "language_info": {
   "codemirror_mode": {
    "name": "ipython",
    "version": 3
   },
   "file_extension": ".py",
   "mimetype": "text/x-python",
   "name": "python",
   "nbconvert_exporter": "python",
   "pygments_lexer": "ipython3",
   "version": "3.12.4"
  }
 },
 "nbformat": 4,
 "nbformat_minor": 5
}
